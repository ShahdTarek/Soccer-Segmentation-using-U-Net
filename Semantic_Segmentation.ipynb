{
  "nbformat": 4,
  "nbformat_minor": 0,
  "metadata": {
    "colab": {
      "provenance": [],
      "gpuType": "T4",
      "authorship_tag": "ABX9TyODiu9ipYIm/MPC7j7AyzMc"
    },
    "kernelspec": {
      "name": "python3",
      "display_name": "Python 3"
    },
    "language_info": {
      "name": "python"
    },
    "accelerator": "GPU"
  },
  "cells": [
    {
      "cell_type": "markdown",
      "source": [
        "\n",
        "\n",
        "> # Dependencies\n",
        "\n"
      ],
      "metadata": {
        "id": "aJQB-MH3NlsX"
      }
    },
    {
      "cell_type": "code",
      "execution_count": 1,
      "metadata": {
        "colab": {
          "base_uri": "https://localhost:8080/"
        },
        "id": "B1P0VdaoJlGY",
        "outputId": "0d4f6275-b59c-4cae-920c-d54dd3f82ae3"
      },
      "outputs": [
        {
          "output_type": "stream",
          "name": "stdout",
          "text": [
            "Requirement already satisfied: kaggle in /usr/local/lib/python3.10/dist-packages (1.5.16)\n",
            "Requirement already satisfied: six>=1.10 in /usr/local/lib/python3.10/dist-packages (from kaggle) (1.16.0)\n",
            "Requirement already satisfied: certifi in /usr/local/lib/python3.10/dist-packages (from kaggle) (2023.11.17)\n",
            "Requirement already satisfied: python-dateutil in /usr/local/lib/python3.10/dist-packages (from kaggle) (2.8.2)\n",
            "Requirement already satisfied: requests in /usr/local/lib/python3.10/dist-packages (from kaggle) (2.31.0)\n",
            "Requirement already satisfied: tqdm in /usr/local/lib/python3.10/dist-packages (from kaggle) (4.66.1)\n",
            "Requirement already satisfied: python-slugify in /usr/local/lib/python3.10/dist-packages (from kaggle) (8.0.1)\n",
            "Requirement already satisfied: urllib3 in /usr/local/lib/python3.10/dist-packages (from kaggle) (2.0.7)\n",
            "Requirement already satisfied: bleach in /usr/local/lib/python3.10/dist-packages (from kaggle) (6.1.0)\n",
            "Requirement already satisfied: webencodings in /usr/local/lib/python3.10/dist-packages (from bleach->kaggle) (0.5.1)\n",
            "Requirement already satisfied: text-unidecode>=1.3 in /usr/local/lib/python3.10/dist-packages (from python-slugify->kaggle) (1.3)\n",
            "Requirement already satisfied: charset-normalizer<4,>=2 in /usr/local/lib/python3.10/dist-packages (from requests->kaggle) (3.3.2)\n",
            "Requirement already satisfied: idna<4,>=2.5 in /usr/local/lib/python3.10/dist-packages (from requests->kaggle) (3.6)\n"
          ]
        }
      ],
      "source": [
        "!pip install kaggle"
      ]
    },
    {
      "cell_type": "code",
      "source": [
        "import os\n",
        "import shutil\n",
        "from PIL import Image\n",
        "import matplotlib.pyplot as plt\n",
        "import glob\n",
        "import numpy as np\n",
        "from tqdm import tqdm\n",
        "import cv2\n",
        "import numpy as np\n",
        "import pandas as pd\n",
        "from sklearn.model_selection import train_test_split\n",
        "from keras.utils import to_categorical\n",
        "from keras.models import Sequential\n",
        "from keras.layers import Input, Conv2D, MaxPooling2D, UpSampling2D, concatenate\n",
        "from keras.preprocessing.image import ImageDataGenerator, load_img, img_to_array"
      ],
      "metadata": {
        "id": "qtAGrPlUXXjK"
      },
      "execution_count": 2,
      "outputs": []
    },
    {
      "cell_type": "code",
      "source": [
        "from google.colab import files\n",
        "\n",
        "# Upload kaggle.json\n",
        "files.upload()\n"
      ],
      "metadata": {
        "colab": {
          "base_uri": "https://localhost:8080/",
          "height": 89
        },
        "id": "7QSdxl1HOYZu",
        "outputId": "8f8d2dbd-e0bb-454a-ad37-af054d46f540"
      },
      "execution_count": 3,
      "outputs": [
        {
          "output_type": "display_data",
          "data": {
            "text/plain": [
              "<IPython.core.display.HTML object>"
            ],
            "text/html": [
              "\n",
              "     <input type=\"file\" id=\"files-267b7ab9-8c23-4422-962b-b3319de07ae0\" name=\"files[]\" multiple disabled\n",
              "        style=\"border:none\" />\n",
              "     <output id=\"result-267b7ab9-8c23-4422-962b-b3319de07ae0\">\n",
              "      Upload widget is only available when the cell has been executed in the\n",
              "      current browser session. Please rerun this cell to enable.\n",
              "      </output>\n",
              "      <script>// Copyright 2017 Google LLC\n",
              "//\n",
              "// Licensed under the Apache License, Version 2.0 (the \"License\");\n",
              "// you may not use this file except in compliance with the License.\n",
              "// You may obtain a copy of the License at\n",
              "//\n",
              "//      http://www.apache.org/licenses/LICENSE-2.0\n",
              "//\n",
              "// Unless required by applicable law or agreed to in writing, software\n",
              "// distributed under the License is distributed on an \"AS IS\" BASIS,\n",
              "// WITHOUT WARRANTIES OR CONDITIONS OF ANY KIND, either express or implied.\n",
              "// See the License for the specific language governing permissions and\n",
              "// limitations under the License.\n",
              "\n",
              "/**\n",
              " * @fileoverview Helpers for google.colab Python module.\n",
              " */\n",
              "(function(scope) {\n",
              "function span(text, styleAttributes = {}) {\n",
              "  const element = document.createElement('span');\n",
              "  element.textContent = text;\n",
              "  for (const key of Object.keys(styleAttributes)) {\n",
              "    element.style[key] = styleAttributes[key];\n",
              "  }\n",
              "  return element;\n",
              "}\n",
              "\n",
              "// Max number of bytes which will be uploaded at a time.\n",
              "const MAX_PAYLOAD_SIZE = 100 * 1024;\n",
              "\n",
              "function _uploadFiles(inputId, outputId) {\n",
              "  const steps = uploadFilesStep(inputId, outputId);\n",
              "  const outputElement = document.getElementById(outputId);\n",
              "  // Cache steps on the outputElement to make it available for the next call\n",
              "  // to uploadFilesContinue from Python.\n",
              "  outputElement.steps = steps;\n",
              "\n",
              "  return _uploadFilesContinue(outputId);\n",
              "}\n",
              "\n",
              "// This is roughly an async generator (not supported in the browser yet),\n",
              "// where there are multiple asynchronous steps and the Python side is going\n",
              "// to poll for completion of each step.\n",
              "// This uses a Promise to block the python side on completion of each step,\n",
              "// then passes the result of the previous step as the input to the next step.\n",
              "function _uploadFilesContinue(outputId) {\n",
              "  const outputElement = document.getElementById(outputId);\n",
              "  const steps = outputElement.steps;\n",
              "\n",
              "  const next = steps.next(outputElement.lastPromiseValue);\n",
              "  return Promise.resolve(next.value.promise).then((value) => {\n",
              "    // Cache the last promise value to make it available to the next\n",
              "    // step of the generator.\n",
              "    outputElement.lastPromiseValue = value;\n",
              "    return next.value.response;\n",
              "  });\n",
              "}\n",
              "\n",
              "/**\n",
              " * Generator function which is called between each async step of the upload\n",
              " * process.\n",
              " * @param {string} inputId Element ID of the input file picker element.\n",
              " * @param {string} outputId Element ID of the output display.\n",
              " * @return {!Iterable<!Object>} Iterable of next steps.\n",
              " */\n",
              "function* uploadFilesStep(inputId, outputId) {\n",
              "  const inputElement = document.getElementById(inputId);\n",
              "  inputElement.disabled = false;\n",
              "\n",
              "  const outputElement = document.getElementById(outputId);\n",
              "  outputElement.innerHTML = '';\n",
              "\n",
              "  const pickedPromise = new Promise((resolve) => {\n",
              "    inputElement.addEventListener('change', (e) => {\n",
              "      resolve(e.target.files);\n",
              "    });\n",
              "  });\n",
              "\n",
              "  const cancel = document.createElement('button');\n",
              "  inputElement.parentElement.appendChild(cancel);\n",
              "  cancel.textContent = 'Cancel upload';\n",
              "  const cancelPromise = new Promise((resolve) => {\n",
              "    cancel.onclick = () => {\n",
              "      resolve(null);\n",
              "    };\n",
              "  });\n",
              "\n",
              "  // Wait for the user to pick the files.\n",
              "  const files = yield {\n",
              "    promise: Promise.race([pickedPromise, cancelPromise]),\n",
              "    response: {\n",
              "      action: 'starting',\n",
              "    }\n",
              "  };\n",
              "\n",
              "  cancel.remove();\n",
              "\n",
              "  // Disable the input element since further picks are not allowed.\n",
              "  inputElement.disabled = true;\n",
              "\n",
              "  if (!files) {\n",
              "    return {\n",
              "      response: {\n",
              "        action: 'complete',\n",
              "      }\n",
              "    };\n",
              "  }\n",
              "\n",
              "  for (const file of files) {\n",
              "    const li = document.createElement('li');\n",
              "    li.append(span(file.name, {fontWeight: 'bold'}));\n",
              "    li.append(span(\n",
              "        `(${file.type || 'n/a'}) - ${file.size} bytes, ` +\n",
              "        `last modified: ${\n",
              "            file.lastModifiedDate ? file.lastModifiedDate.toLocaleDateString() :\n",
              "                                    'n/a'} - `));\n",
              "    const percent = span('0% done');\n",
              "    li.appendChild(percent);\n",
              "\n",
              "    outputElement.appendChild(li);\n",
              "\n",
              "    const fileDataPromise = new Promise((resolve) => {\n",
              "      const reader = new FileReader();\n",
              "      reader.onload = (e) => {\n",
              "        resolve(e.target.result);\n",
              "      };\n",
              "      reader.readAsArrayBuffer(file);\n",
              "    });\n",
              "    // Wait for the data to be ready.\n",
              "    let fileData = yield {\n",
              "      promise: fileDataPromise,\n",
              "      response: {\n",
              "        action: 'continue',\n",
              "      }\n",
              "    };\n",
              "\n",
              "    // Use a chunked sending to avoid message size limits. See b/62115660.\n",
              "    let position = 0;\n",
              "    do {\n",
              "      const length = Math.min(fileData.byteLength - position, MAX_PAYLOAD_SIZE);\n",
              "      const chunk = new Uint8Array(fileData, position, length);\n",
              "      position += length;\n",
              "\n",
              "      const base64 = btoa(String.fromCharCode.apply(null, chunk));\n",
              "      yield {\n",
              "        response: {\n",
              "          action: 'append',\n",
              "          file: file.name,\n",
              "          data: base64,\n",
              "        },\n",
              "      };\n",
              "\n",
              "      let percentDone = fileData.byteLength === 0 ?\n",
              "          100 :\n",
              "          Math.round((position / fileData.byteLength) * 100);\n",
              "      percent.textContent = `${percentDone}% done`;\n",
              "\n",
              "    } while (position < fileData.byteLength);\n",
              "  }\n",
              "\n",
              "  // All done.\n",
              "  yield {\n",
              "    response: {\n",
              "      action: 'complete',\n",
              "    }\n",
              "  };\n",
              "}\n",
              "\n",
              "scope.google = scope.google || {};\n",
              "scope.google.colab = scope.google.colab || {};\n",
              "scope.google.colab._files = {\n",
              "  _uploadFiles,\n",
              "  _uploadFilesContinue,\n",
              "};\n",
              "})(self);\n",
              "</script> "
            ]
          },
          "metadata": {}
        },
        {
          "output_type": "stream",
          "name": "stdout",
          "text": [
            "Saving kaggle.json to kaggle.json\n"
          ]
        },
        {
          "output_type": "execute_result",
          "data": {
            "text/plain": [
              "{'kaggle.json': b'{\"username\":\"shahdhailam\",\"key\":\"0f461124bf32f4b673c9bfe84b442ac8\"}'}"
            ]
          },
          "metadata": {},
          "execution_count": 3
        }
      ]
    },
    {
      "cell_type": "code",
      "source": [
        "!mkdir -p ~/.kaggle\n",
        "!mv kaggle.json ~/.kaggle/"
      ],
      "metadata": {
        "id": "FDeJ93D8Ov-Y"
      },
      "execution_count": 4,
      "outputs": []
    },
    {
      "cell_type": "code",
      "source": [
        "!chmod 600 ~/.kaggle/kaggle.json"
      ],
      "metadata": {
        "id": "iSHYwoHCPHX9"
      },
      "execution_count": 5,
      "outputs": []
    },
    {
      "cell_type": "code",
      "source": [
        "!kaggle datasets download -d mohammednomer/semantic-segmentation"
      ],
      "metadata": {
        "colab": {
          "base_uri": "https://localhost:8080/"
        },
        "id": "sXy4WUIrO0bo",
        "outputId": "0e8c9fb7-4128-4bdd-d2f0-4b3e33dcafde"
      },
      "execution_count": 6,
      "outputs": [
        {
          "output_type": "stream",
          "name": "stdout",
          "text": [
            "Downloading semantic-segmentation.zip to /content\n",
            " 95% 65.0M/68.7M [00:00<00:00, 89.5MB/s]\n",
            "100% 68.7M/68.7M [00:00<00:00, 74.9MB/s]\n"
          ]
        }
      ]
    },
    {
      "cell_type": "code",
      "source": [
        "\n",
        "!mkdir /content/soccer-semantic-segmentation\n",
        "\n",
        "%cd /content/soccer-semantic-segmentation\n",
        "\n",
        "zip_path = '/content/semantic-segmentation.zip'\n",
        "\n",
        "!unzip -q \"$zip_path\"\n"
      ],
      "metadata": {
        "colab": {
          "base_uri": "https://localhost:8080/"
        },
        "id": "7YKTmsp7PPYu",
        "outputId": "2fe73488-ca6c-452b-e9e4-e9145c26ea4b"
      },
      "execution_count": 7,
      "outputs": [
        {
          "output_type": "stream",
          "name": "stdout",
          "text": [
            "/content/soccer-semantic-segmentation\n"
          ]
        }
      ]
    },
    {
      "cell_type": "code",
      "source": [
        "print( len([f for f in os.listdir('/content/soccer-semantic-segmentation') if os.path.isfile(os.path.join('/content/soccer-semantic-segmentation', f))]))"
      ],
      "metadata": {
        "colab": {
          "base_uri": "https://localhost:8080/"
        },
        "id": "5bIUSBrIJ7-C",
        "outputId": "a7c04bda-d6fc-4fd7-cfac-bfc11d2b9ef2"
      },
      "execution_count": 8,
      "outputs": [
        {
          "output_type": "stream",
          "name": "stdout",
          "text": [
            "303\n"
          ]
        }
      ]
    },
    {
      "cell_type": "markdown",
      "source": [
        "> # Dataset preparations"
      ],
      "metadata": {
        "id": "HQ7lzsFsN0mX"
      }
    },
    {
      "cell_type": "code",
      "source": [
        "dataset_folder = '/content/soccer-semantic-segmentation'\n",
        "# list of files in the dataset folder\n",
        "files = os.listdir(dataset_folder)\n",
        "\n",
        "\n",
        "# Creating folders and copy files based on their names\n",
        "for file_name in files:\n",
        "  if '___' in file_name:\n",
        "      category = file_name.split('___')[1]\n",
        "      new_file_name = file_name.split('.')[0]+ '-' + category.split('.')[0] + '.jpg'\n",
        "      new_file_name = new_file_name.replace(\" \", \"\").replace('Frame1','frame')\n",
        "      folder_name = 'Frame-' + category.split('.')[0]\n",
        "  elif 'Frame 1  ' in file_name and '___' not in file_name:\n",
        "      category = file_name.split()[0]\n",
        "      new_file_name = file_name.replace(\" \", \"\").replace('Frame1','frame')\n",
        "      folder_name = category\n",
        "  else:\n",
        "    pass\n",
        "\n",
        "\n",
        "  #Creating a folder for the category if it doesn't exist\n",
        "\n",
        "  category_folder = os.path.join('/content/Dataset/', folder_name)\n",
        "  os.makedirs(category_folder, exist_ok=True)\n",
        "\n",
        "  # Copying the file to the corresponding category folder\n",
        "  file_path = os.path.join(dataset_folder, file_name)\n",
        "  destination_path = os.path.join(category_folder, new_file_name)\n",
        "\n",
        "\n",
        "\n",
        "  #shutil.copy(file_path, destination_path)\n",
        "  if not os.path.isdir(file_path):\n",
        "    try:\n",
        "      image = Image.open(file_path)\n",
        "\n",
        "      # Resize the image\n",
        "      image = image.convert('RGB')\n",
        "      resized_image = image.resize((256, 256))\n",
        "      resized_image.save(destination_path)\n",
        "    except:\n",
        "      print('Not Image')\n",
        "\n"
      ],
      "metadata": {
        "colab": {
          "base_uri": "https://localhost:8080/"
        },
        "id": "ULLjtUepRPlE",
        "outputId": "bcef0fc6-6ac3-4592-f2b4-9fb05b458b5b"
      },
      "execution_count": 9,
      "outputs": [
        {
          "output_type": "stream",
          "name": "stdout",
          "text": [
            "Not Image\n",
            "Not Image\n",
            "Not Image\n"
          ]
        }
      ]
    },
    {
      "cell_type": "code",
      "source": [
        "image_files, images, masks = [], [], []\n",
        "imgs = os.listdir('/content/Dataset/Frame/')\n",
        "\n",
        "for i in imgs :\n",
        "\n",
        "    # Load RGB image\n",
        "    if '.jpg' in i:\n",
        "      image_path = os.path.join('/content/Dataset/Frame/', i)\n",
        "      img = load_img(image_path, target_size=(224, 224))\n",
        "      img_array = img_to_array(img) / 255.0  # Normalize pixels\n",
        "      images.append(img_array)\n",
        "\n",
        "      # Load corresponding mask\n",
        "      mask_path = os.path.join('/content/Dataset/Frame-fuse/', f\"{i.split('.')[0]}-fuse.jpg\")\n",
        "      mask = load_img(mask_path, target_size=(224, 224), color_mode='grayscale')\n",
        "      mask_array = img_to_array(mask) / 255.0  # Normalize pixels\n",
        "      masks.append(mask_array)\n",
        "      image_files.append(i)\n",
        "\n",
        "image_files"
      ],
      "metadata": {
        "colab": {
          "base_uri": "https://localhost:8080/"
        },
        "id": "tuFZFrz7Xt-O",
        "outputId": "d92182bd-c177-47ae-db80-5519fc92b121"
      },
      "execution_count": 10,
      "outputs": [
        {
          "output_type": "execute_result",
          "data": {
            "text/plain": [
              "['frame(78).jpg',\n",
              " 'frame(97).jpg',\n",
              " 'frame(44).jpg',\n",
              " 'frame(82).jpg',\n",
              " 'frame(64).jpg',\n",
              " 'frame(49).jpg',\n",
              " 'frame(29).jpg',\n",
              " 'frame(80).jpg',\n",
              " 'frame(56).jpg',\n",
              " 'frame(87).jpg',\n",
              " 'frame(32).jpg',\n",
              " 'frame(98).jpg',\n",
              " 'frame(15).jpg',\n",
              " 'frame(66).jpg',\n",
              " 'frame(39).jpg',\n",
              " 'frame(99).jpg',\n",
              " 'frame(75).jpg',\n",
              " 'frame(19).jpg',\n",
              " 'frame(54).jpg',\n",
              " 'frame(91).jpg',\n",
              " 'frame(67).jpg',\n",
              " 'frame(9).jpg',\n",
              " 'frame(68).jpg',\n",
              " 'frame(33).jpg',\n",
              " 'frame(14).jpg',\n",
              " 'frame(85).jpg',\n",
              " 'frame(38).jpg',\n",
              " 'frame(45).jpg',\n",
              " 'frame(36).jpg',\n",
              " 'frame(3).jpg',\n",
              " 'frame(72).jpg',\n",
              " 'frame(8).jpg',\n",
              " 'frame(88).jpg',\n",
              " 'frame(90).jpg',\n",
              " 'frame(22).jpg',\n",
              " 'frame(7).jpg',\n",
              " 'frame(58).jpg',\n",
              " 'frame(69).jpg',\n",
              " 'frame(28).jpg',\n",
              " 'frame(55).jpg',\n",
              " 'frame(89).jpg',\n",
              " 'frame(81).jpg',\n",
              " 'frame(70).jpg',\n",
              " 'frame(20).jpg',\n",
              " 'frame(52).jpg',\n",
              " 'frame(93).jpg',\n",
              " 'frame(6).jpg',\n",
              " 'frame(4).jpg',\n",
              " 'frame(18).jpg',\n",
              " 'frame(23).jpg',\n",
              " 'frame(96).jpg',\n",
              " 'frame(94).jpg',\n",
              " 'frame(5).jpg',\n",
              " 'frame(11).jpg',\n",
              " 'frame(77).jpg',\n",
              " 'frame(60).jpg',\n",
              " 'frame(92).jpg',\n",
              " 'frame(50).jpg',\n",
              " 'frame(62).jpg',\n",
              " 'frame(46).jpg',\n",
              " 'frame(57).jpg',\n",
              " 'frame(35).jpg',\n",
              " 'frame(25).jpg',\n",
              " 'frame(27).jpg',\n",
              " 'frame(2).jpg',\n",
              " 'frame(63).jpg',\n",
              " 'frame(40).jpg',\n",
              " 'frame(73).jpg',\n",
              " 'frame(1).jpg',\n",
              " 'frame(43).jpg',\n",
              " 'frame(26).jpg',\n",
              " 'frame(17).jpg',\n",
              " 'frame(65).jpg',\n",
              " 'frame(12).jpg',\n",
              " 'frame(84).jpg',\n",
              " 'frame(42).jpg',\n",
              " 'frame(13).jpg',\n",
              " 'frame(16).jpg',\n",
              " 'frame(53).jpg',\n",
              " 'frame(30).jpg',\n",
              " 'frame(21).jpg',\n",
              " 'frame(51).jpg',\n",
              " 'frame(74).jpg',\n",
              " 'frame(61).jpg',\n",
              " 'frame(37).jpg',\n",
              " 'frame(83).jpg',\n",
              " 'frame(100).jpg',\n",
              " 'frame(95).jpg',\n",
              " 'frame(31).jpg',\n",
              " 'frame(71).jpg',\n",
              " 'frame(10).jpg',\n",
              " 'frame(59).jpg',\n",
              " 'frame(76).jpg',\n",
              " 'frame(79).jpg',\n",
              " 'frame(41).jpg',\n",
              " 'frame(86).jpg',\n",
              " 'frame(24).jpg',\n",
              " 'frame(48).jpg',\n",
              " 'frame(47).jpg',\n",
              " 'frame(34).jpg']"
            ]
          },
          "metadata": {},
          "execution_count": 10
        }
      ]
    },
    {
      "cell_type": "code",
      "source": [
        "images = np.array(images)\n",
        "masks = np.array(masks)"
      ],
      "metadata": {
        "id": "b6H2GhyaaZeW"
      },
      "execution_count": 11,
      "outputs": []
    },
    {
      "cell_type": "code",
      "source": [
        "print('Fuse Folder : ', len([f for f in os.listdir('/content/Dataset/Frame-fuse') if os.path.isfile(os.path.join('/content/Dataset/Frame-fuse', f))]))\n",
        "print('Save Folder : ', len([f for f in os.listdir('/content/Dataset/Frame-save') if os.path.isfile(os.path.join('/content/Dataset/Frame-save', f))]))\n",
        "print('Frame Folder : ', len([f for f in os.listdir('/content/Dataset/Frame') if os.path.isfile(os.path.join('/content/Dataset/Frame', f))]))"
      ],
      "metadata": {
        "colab": {
          "base_uri": "https://localhost:8080/"
        },
        "id": "KWzrZ2dcKaa5",
        "outputId": "888ed94c-bb87-48c4-f993-5170208ec425"
      },
      "execution_count": 12,
      "outputs": [
        {
          "output_type": "stream",
          "name": "stdout",
          "text": [
            "Fuse Folder :  100\n",
            "Save Folder :  100\n",
            "Frame Folder :  100\n"
          ]
        }
      ]
    },
    {
      "cell_type": "markdown",
      "source": [
        "> # U Net\n"
      ],
      "metadata": {
        "id": "xy2QFXVrN7r_"
      }
    },
    {
      "cell_type": "code",
      "source": [
        "train_images, val_images, train_masks, val_masks = train_test_split(\n",
        "    images, masks, test_size=0.2, random_state=42, shuffle=True\n",
        ")"
      ],
      "metadata": {
        "id": "5G6KfxrbacIv"
      },
      "execution_count": 13,
      "outputs": []
    },
    {
      "cell_type": "code",
      "source": [
        "train_masks = to_categorical(train_masks, num_classes=11)\n",
        "val_masks = to_categorical(val_masks, num_classes=11)"
      ],
      "metadata": {
        "id": "bIAwmATGal1G"
      },
      "execution_count": 14,
      "outputs": []
    },
    {
      "cell_type": "code",
      "source": [
        "datagen = ImageDataGenerator(\n",
        "    rotation_range=20,\n",
        "    width_shift_range=0.2,\n",
        "    height_shift_range=0.2,\n",
        "    shear_range=0.2,\n",
        "    zoom_range=0.2,\n",
        "    horizontal_flip=True,\n",
        "    vertical_flip=True,\n",
        "    fill_mode='nearest'\n",
        ")"
      ],
      "metadata": {
        "id": "KXUxxhe1az3q"
      },
      "execution_count": 15,
      "outputs": []
    },
    {
      "cell_type": "code",
      "source": [
        "model = Sequential(name='U-Net')\n",
        "\n",
        "# Encoder\n",
        "model.add(Conv2D(64, (3, 3), activation='relu', padding='same', input_shape=(224, 224, 3)))\n",
        "model.add(Conv2D(64, (3, 3), activation='relu', padding='same'))\n",
        "model.add(MaxPooling2D(pool_size=(2, 2)))\n",
        "\n",
        "model.add(Conv2D(128, (3, 3), activation='relu', padding='same'))\n",
        "model.add(Conv2D(128, (3, 3), activation='relu', padding='same'))\n",
        "model.add(MaxPooling2D(pool_size=(2, 2)))\n",
        "\n",
        "model.add(Conv2D(256, (3, 3), activation='relu', padding='same'))\n",
        "model.add(Conv2D(256, (3, 3), activation='relu', padding='same'))\n",
        "model.add(MaxPooling2D(pool_size=(2, 2)))\n",
        "\n",
        "# Bottleneck\n",
        "model.add(Conv2D(512, (3, 3), activation='relu', padding='same'))\n",
        "model.add(Conv2D(512, (3, 3), activation='relu', padding='same'))\n",
        "\n",
        "# Decoder\n",
        "model.add(UpSampling2D(size=(2, 2)))\n",
        "model.add(Conv2D(256, (3, 3), activation='relu', padding='same'))\n",
        "model.add(Conv2D(256, (3, 3), activation='relu', padding='same'))\n",
        "\n",
        "model.add(UpSampling2D(size=(2, 2)))\n",
        "model.add(Conv2D(128, (3, 3), activation='relu', padding='same'))\n",
        "model.add(Conv2D(128, (3, 3), activation='relu', padding='same'))\n",
        "\n",
        "model.add(UpSampling2D(size=(2, 2)))\n",
        "model.add(Conv2D(64, (3, 3), activation='relu', padding='same'))\n",
        "model.add(Conv2D(64, (3, 3), activation='relu', padding='same'))\n",
        "\n",
        "# Output\n",
        "model.add(Conv2D(11, (1, 1), activation='softmax'))\n",
        "model.compile(optimizer='adam', loss='categorical_crossentropy', metrics=['accuracy'])\n",
        "model.summary()\n"
      ],
      "metadata": {
        "colab": {
          "base_uri": "https://localhost:8080/"
        },
        "id": "UGGqBHlmbGUl",
        "outputId": "4b7f04b5-fa2f-473f-ccfe-910428383852"
      },
      "execution_count": 16,
      "outputs": [
        {
          "output_type": "stream",
          "name": "stdout",
          "text": [
            "Model: \"U-Net\"\n",
            "_________________________________________________________________\n",
            " Layer (type)                Output Shape              Param #   \n",
            "=================================================================\n",
            " conv2d (Conv2D)             (None, 224, 224, 64)      1792      \n",
            "                                                                 \n",
            " conv2d_1 (Conv2D)           (None, 224, 224, 64)      36928     \n",
            "                                                                 \n",
            " max_pooling2d (MaxPooling2  (None, 112, 112, 64)      0         \n",
            " D)                                                              \n",
            "                                                                 \n",
            " conv2d_2 (Conv2D)           (None, 112, 112, 128)     73856     \n",
            "                                                                 \n",
            " conv2d_3 (Conv2D)           (None, 112, 112, 128)     147584    \n",
            "                                                                 \n",
            " max_pooling2d_1 (MaxPoolin  (None, 56, 56, 128)       0         \n",
            " g2D)                                                            \n",
            "                                                                 \n",
            " conv2d_4 (Conv2D)           (None, 56, 56, 256)       295168    \n",
            "                                                                 \n",
            " conv2d_5 (Conv2D)           (None, 56, 56, 256)       590080    \n",
            "                                                                 \n",
            " max_pooling2d_2 (MaxPoolin  (None, 28, 28, 256)       0         \n",
            " g2D)                                                            \n",
            "                                                                 \n",
            " conv2d_6 (Conv2D)           (None, 28, 28, 512)       1180160   \n",
            "                                                                 \n",
            " conv2d_7 (Conv2D)           (None, 28, 28, 512)       2359808   \n",
            "                                                                 \n",
            " up_sampling2d (UpSampling2  (None, 56, 56, 512)       0         \n",
            " D)                                                              \n",
            "                                                                 \n",
            " conv2d_8 (Conv2D)           (None, 56, 56, 256)       1179904   \n",
            "                                                                 \n",
            " conv2d_9 (Conv2D)           (None, 56, 56, 256)       590080    \n",
            "                                                                 \n",
            " up_sampling2d_1 (UpSamplin  (None, 112, 112, 256)     0         \n",
            " g2D)                                                            \n",
            "                                                                 \n",
            " conv2d_10 (Conv2D)          (None, 112, 112, 128)     295040    \n",
            "                                                                 \n",
            " conv2d_11 (Conv2D)          (None, 112, 112, 128)     147584    \n",
            "                                                                 \n",
            " up_sampling2d_2 (UpSamplin  (None, 224, 224, 128)     0         \n",
            " g2D)                                                            \n",
            "                                                                 \n",
            " conv2d_12 (Conv2D)          (None, 224, 224, 64)      73792     \n",
            "                                                                 \n",
            " conv2d_13 (Conv2D)          (None, 224, 224, 64)      36928     \n",
            "                                                                 \n",
            " conv2d_14 (Conv2D)          (None, 224, 224, 11)      715       \n",
            "                                                                 \n",
            "=================================================================\n",
            "Total params: 7009419 (26.74 MB)\n",
            "Trainable params: 7009419 (26.74 MB)\n",
            "Non-trainable params: 0 (0.00 Byte)\n",
            "_________________________________________________________________\n"
          ]
        }
      ]
    },
    {
      "cell_type": "markdown",
      "source": [
        "> # Final Output"
      ],
      "metadata": {
        "id": "PpufWkfLN_Vh"
      }
    },
    {
      "cell_type": "code",
      "source": [
        "history = model.fit(\n",
        "    datagen.flow(train_images, train_masks, batch_size=32),\n",
        "    epochs=10,\n",
        "    validation_data=(val_images, val_masks)\n",
        ")"
      ],
      "metadata": {
        "id": "xbZEFpJvN_5Q",
        "colab": {
          "base_uri": "https://localhost:8080/"
        },
        "outputId": "591f983f-a633-4e4b-e86c-2d4f736e2f00"
      },
      "execution_count": 17,
      "outputs": [
        {
          "output_type": "stream",
          "name": "stdout",
          "text": [
            "Epoch 1/10\n",
            "3/3 [==============================] - 75s 23s/step - loss: 1.2844 - accuracy: 0.8001 - val_loss: 1.5341e-09 - val_accuracy: 1.0000\n",
            "Epoch 2/10\n",
            "3/3 [==============================] - 3s 758ms/step - loss: 7.2112e-08 - accuracy: 1.0000 - val_loss: 0.0000e+00 - val_accuracy: 1.0000\n",
            "Epoch 3/10\n",
            "3/3 [==============================] - 3s 987ms/step - loss: 0.0000e+00 - accuracy: 1.0000 - val_loss: 0.0000e+00 - val_accuracy: 1.0000\n",
            "Epoch 4/10\n",
            "3/3 [==============================] - 3s 1s/step - loss: 0.0000e+00 - accuracy: 1.0000 - val_loss: 0.0000e+00 - val_accuracy: 1.0000\n",
            "Epoch 5/10\n",
            "3/3 [==============================] - 3s 738ms/step - loss: 0.0000e+00 - accuracy: 1.0000 - val_loss: 0.0000e+00 - val_accuracy: 1.0000\n",
            "Epoch 6/10\n",
            "3/3 [==============================] - 3s 685ms/step - loss: 0.0000e+00 - accuracy: 1.0000 - val_loss: 0.0000e+00 - val_accuracy: 1.0000\n",
            "Epoch 7/10\n",
            "3/3 [==============================] - 3s 680ms/step - loss: 0.0000e+00 - accuracy: 1.0000 - val_loss: 0.0000e+00 - val_accuracy: 1.0000\n",
            "Epoch 8/10\n",
            "3/3 [==============================] - 3s 695ms/step - loss: 0.0000e+00 - accuracy: 1.0000 - val_loss: 0.0000e+00 - val_accuracy: 1.0000\n",
            "Epoch 9/10\n",
            "3/3 [==============================] - 3s 1s/step - loss: 0.0000e+00 - accuracy: 1.0000 - val_loss: 0.0000e+00 - val_accuracy: 1.0000\n",
            "Epoch 10/10\n",
            "3/3 [==============================] - 3s 959ms/step - loss: 0.0000e+00 - accuracy: 1.0000 - val_loss: 0.0000e+00 - val_accuracy: 1.0000\n"
          ]
        }
      ]
    },
    {
      "cell_type": "code",
      "source": [
        "test_loss, test_accuracy = model.evaluate(val_images, val_masks)"
      ],
      "metadata": {
        "colab": {
          "base_uri": "https://localhost:8080/"
        },
        "id": "TUTAdvDudAIk",
        "outputId": "693124c6-7be1-49a2-c88f-d3c0b7b67a74"
      },
      "execution_count": 18,
      "outputs": [
        {
          "output_type": "stream",
          "name": "stdout",
          "text": [
            "1/1 [==============================] - 0s 358ms/step - loss: 0.0000e+00 - accuracy: 1.0000\n"
          ]
        }
      ]
    }
  ]
}